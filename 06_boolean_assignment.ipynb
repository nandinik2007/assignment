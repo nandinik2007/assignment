{
 "cells": [
  {
   "cell_type": "code",
   "execution_count": 1,
   "id": "cf38e8fe",
   "metadata": {},
   "outputs": [
    {
     "name": "stdout",
     "output_type": "stream",
     "text": [
      "True\n"
     ]
    }
   ],
   "source": [
    "#Question 1: Check if 25 is greater than 20 and less than 30\")\n",
    "print(25 > 20 and 25 < 30)\n",
    "     \n"
   ]
  },
  {
   "cell_type": "code",
   "execution_count": 2,
   "id": "90dbe07d",
   "metadata": {},
   "outputs": [
    {
     "name": "stdout",
     "output_type": "stream",
     "text": [
      "False\n"
     ]
    }
   ],
   "source": [
    "# Question 2: Check if string \"python\" is equal to \"Python\" (case sensitive)\n",
    "print(\"python\" == \"Python\")"
   ]
  },
  {
   "cell_type": "code",
   "execution_count": 3,
   "id": "f50ffb40",
   "metadata": {},
   "outputs": [
    {
     "name": "stdout",
     "output_type": "stream",
     "text": [
      "True\n"
     ]
    }
   ],
   "source": [
    "\n",
    "# Question 3: Check if 15 is divisible by both 3 and 5\n",
    "print(15 % 3 == 0 and 15 % 5 == 0)"
   ]
  },
  {
   "cell_type": "code",
   "execution_count": 4,
   "id": "a69dfd56",
   "metadata": {},
   "outputs": [
    {
     "name": "stdout",
     "output_type": "stream",
     "text": [
      "True\n"
     ]
    }
   ],
   "source": [
    "\n",
    "# Question 4: Check if 7 is not equal to 8\n",
    "print(7 != 8)"
   ]
  },
  {
   "cell_type": "code",
   "execution_count": 5,
   "id": "b12336f3",
   "metadata": {},
   "outputs": [
    {
     "name": "stdout",
     "output_type": "stream",
     "text": [
      "True\n"
     ]
    }
   ],
   "source": [
    "# Question 5: Check if 100 is greater than 50 or less than 25\n",
    "print(100 > 50 or 100 < 25)"
   ]
  },
  {
   "cell_type": "code",
   "execution_count": 6,
   "id": "a168d7b3",
   "metadata": {},
   "outputs": [
    {
     "name": "stdout",
     "output_type": "stream",
     "text": [
      "False\n"
     ]
    }
   ],
   "source": [
    "\n",
    "# Question 6: Check if 0 is falsy in Python\n",
    "print(bool(0))"
   ]
  },
  {
   "cell_type": "code",
   "execution_count": 7,
   "id": "ff5eb47e",
   "metadata": {},
   "outputs": [
    {
     "name": "stdout",
     "output_type": "stream",
     "text": [
      "False\n"
     ]
    }
   ],
   "source": [
    "# Question 7: Check if empty string \"\" is falsy in Python\n",
    "print(bool(\"\"))\n",
    "     "
   ]
  },
  {
   "cell_type": "code",
   "execution_count": 8,
   "id": "d13986e8",
   "metadata": {},
   "outputs": [
    {
     "name": "stdout",
     "output_type": "stream",
     "text": [
      "True\n"
     ]
    }
   ],
   "source": [
    "\n",
    "# Question 8: Check if 42 is truthy in Python\n",
    "print(bool(42))"
   ]
  },
  {
   "cell_type": "code",
   "execution_count": 9,
   "id": "2cf326be",
   "metadata": {},
   "outputs": [
    {
     "name": "stdout",
     "output_type": "stream",
     "text": [
      "True\n"
     ]
    }
   ],
   "source": [
    "\n",
    "# Question 9: Check if 10 is between 5 and 15 (inclusive)\n",
    "print(5 <= 10 <= 15)"
   ]
  },
  {
   "cell_type": "code",
   "execution_count": 10,
   "id": "d483176a",
   "metadata": {},
   "outputs": [
    {
     "name": "stdout",
     "output_type": "stream",
     "text": [
      "True\n"
     ]
    }
   ],
   "source": [
    "\n",
    "# Question 10: Check if 3.14 is greater than 3 and less than 4\n",
    "print(3 < 3.14 < 4)"
   ]
  }
 ],
 "metadata": {
  "kernelspec": {
   "display_name": "Python 3",
   "language": "python",
   "name": "python3"
  },
  "language_info": {
   "codemirror_mode": {
    "name": "ipython",
    "version": 3
   },
   "file_extension": ".py",
   "mimetype": "text/x-python",
   "name": "python",
   "nbconvert_exporter": "python",
   "pygments_lexer": "ipython3",
   "version": "3.13.7"
  }
 },
 "nbformat": 4,
 "nbformat_minor": 5
}
