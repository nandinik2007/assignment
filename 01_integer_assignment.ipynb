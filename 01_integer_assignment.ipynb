{
 "cells": [
  {
   "cell_type": "code",
   "execution_count": 1,
   "id": "f3f1e92c",
   "metadata": {},
   "outputs": [],
   "source": [
    "import math"
   ]
  },
  {
   "cell_type": "markdown",
   "id": "c3483eba",
   "metadata": {},
   "source": [
    "# Question 1: Calculate the product of first 10 natural numbers"
   ]
  },
  {
   "cell_type": "code",
   "execution_count": 2,
   "id": "124ae059",
   "metadata": {},
   "outputs": [
    {
     "name": "stdout",
     "output_type": "stream",
     "text": [
      "3628800\n"
     ]
    }
   ],
   "source": [
    "print(math.prod(range(1,11)))\n"
   ]
  },
  {
   "cell_type": "markdown",
   "id": "0ab51633",
   "metadata": {},
   "source": [
    "# Question 2: Find the remainder when 156 is divided by 7"
   ]
  },
  {
   "cell_type": "code",
   "execution_count": 3,
   "id": "8dace60a",
   "metadata": {},
   "outputs": [
    {
     "name": "stdout",
     "output_type": "stream",
     "text": [
      "2\n"
     ]
    }
   ],
   "source": [
    "print(156%7)\n"
   ]
  },
  {
   "cell_type": "markdown",
   "id": "5f1f7884",
   "metadata": {},
   "source": [
    "# Question 3: Calculate the square of 25\n"
   ]
  },
  {
   "cell_type": "code",
   "execution_count": 4,
   "id": "d0bf9142",
   "metadata": {},
   "outputs": [
    {
     "name": "stdout",
     "output_type": "stream",
     "text": [
      "625\n"
     ]
    }
   ],
   "source": [
    "print(25 ** 2)\n",
    "     \n",
    "\n"
   ]
  },
  {
   "cell_type": "markdown",
   "id": "feafef48",
   "metadata": {},
   "source": [
    "\n",
    "\n",
    "# Question 4: Cube root of 125\n"
   ]
  },
  {
   "cell_type": "code",
   "execution_count": 5,
   "id": "0f50f67a",
   "metadata": {},
   "outputs": [
    {
     "name": "stdout",
     "output_type": "stream",
     "text": [
      "5\n"
     ]
    }
   ],
   "source": [
    "print(round(125 **(1/3)))\n",
    "     "
   ]
  },
  {
   "cell_type": "markdown",
   "id": "8773d846",
   "metadata": {},
   "source": [
    "# Question 5: Sum of digits in 12345\n"
   ]
  },
  {
   "cell_type": "code",
   "execution_count": 6,
   "id": "e7233467",
   "metadata": {},
   "outputs": [
    {
     "name": "stdout",
     "output_type": "stream",
     "text": [
      "15\n"
     ]
    }
   ],
   "source": [
    "print(sum(map(int,str(12345))))\n",
    "     "
   ]
  },
  {
   "cell_type": "markdown",
   "id": "0e6ea2ec",
   "metadata": {},
   "source": [
    "# Question 7: Factorial of 8"
   ]
  },
  {
   "cell_type": "code",
   "execution_count": 9,
   "id": "5338791c",
   "metadata": {},
   "outputs": [
    {
     "name": "stdout",
     "output_type": "stream",
     "text": [
      "40320\n"
     ]
    }
   ],
   "source": [
    "print(math.factorial(8))"
   ]
  },
  {
   "cell_type": "markdown",
   "id": "579ede6d",
   "metadata": {},
   "source": [
    "\n",
    "# Question 8: Average of [15, 23, 31, 42, 56]"
   ]
  },
  {
   "cell_type": "code",
   "execution_count": 10,
   "id": "16cc0070",
   "metadata": {},
   "outputs": [
    {
     "name": "stdout",
     "output_type": "stream",
     "text": [
      "33.4\n"
     ]
    }
   ],
   "source": [
    "num=[15,23,31,42,56]\n",
    "print(sum(num)/len(num))"
   ]
  },
  {
   "cell_type": "markdown",
   "id": "af4c0b18",
   "metadata": {},
   "source": [
    "# Question 9: GCD of 48 and 36"
   ]
  },
  {
   "cell_type": "code",
   "execution_count": 11,
   "id": "c1802f03",
   "metadata": {},
   "outputs": [
    {
     "name": "stdout",
     "output_type": "stream",
     "text": [
      "12\n"
     ]
    }
   ],
   "source": [
    "print(math.gcd(48,36))"
   ]
  },
  {
   "cell_type": "markdown",
   "id": "c2879019",
   "metadata": {},
   "source": [
    "# Question 10: Sum of first 20 odd numbers"
   ]
  },
  {
   "cell_type": "code",
   "execution_count": 12,
   "id": "0aa90f59",
   "metadata": {},
   "outputs": [
    {
     "name": "stdout",
     "output_type": "stream",
     "text": [
      "400\n"
     ]
    }
   ],
   "source": [
    "print(sum(range(1,40,2)))"
   ]
  }
 ],
 "metadata": {
  "kernelspec": {
   "display_name": "Python 3",
   "language": "python",
   "name": "python3"
  },
  "language_info": {
   "codemirror_mode": {
    "name": "ipython",
    "version": 3
   },
   "file_extension": ".py",
   "mimetype": "text/x-python",
   "name": "python",
   "nbconvert_exporter": "python",
   "pygments_lexer": "ipython3",
   "version": "3.13.7"
  }
 },
 "nbformat": 4,
 "nbformat_minor": 5
}
