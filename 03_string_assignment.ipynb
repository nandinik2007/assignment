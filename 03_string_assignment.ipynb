{
 "cells": [
  {
   "cell_type": "code",
   "execution_count": null,
   "id": "68bd004b",
   "metadata": {},
   "outputs": [],
   "source": [
    "import math"
   ]
  },
  {
   "cell_type": "code",
   "execution_count": 1,
   "id": "f42eaead",
   "metadata": {},
   "outputs": [
    {
     "name": "stdout",
     "output_type": "stream",
     "text": [
      "Question 1: gnimmargorP nohtyP\n"
     ]
    }
   ],
   "source": [
    "\n",
    "print(\"Question 1:\", \"Python Programming\"[::-1])"
   ]
  },
  {
   "cell_type": "code",
   "execution_count": 2,
   "id": "e4ced7ad",
   "metadata": {},
   "outputs": [
    {
     "name": "stdout",
     "output_type": "stream",
     "text": [
      "Question 2: True\n"
     ]
    }
   ],
   "source": [
    "print(\"Question 2:\", \"racecar\" == \"racecar\"[::-1])"
   ]
  },
  {
   "cell_type": "code",
   "execution_count": 3,
   "id": "9ad0df86",
   "metadata": {},
   "outputs": [
    {
     "name": "stdout",
     "output_type": "stream",
     "text": [
      "Question 3: 6\n"
     ]
    }
   ],
   "source": [
    "print(\"Question 3:\", len(\"Python is a great programming language\".split()))"
   ]
  },
  {
   "cell_type": "code",
   "execution_count": 4,
   "id": "e2423234",
   "metadata": {},
   "outputs": [
    {
     "name": "stdout",
     "output_type": "stream",
     "text": [
      "Question 4: Hello World\n"
     ]
    }
   ],
   "source": [
    "\n",
    "print(\"Question 4:\", \"hello world\".title())"
   ]
  },
  {
   "cell_type": "code",
   "execution_count": 5,
   "id": "cef8265d",
   "metadata": {},
   "outputs": [
    {
     "name": "stdout",
     "output_type": "stream",
     "text": [
      "Question 5: 12\n"
     ]
    }
   ],
   "source": [
    "print(\"Question 5:\", len(\"Data Science\"))"
   ]
  },
  {
   "cell_type": "code",
   "execution_count": 6,
   "id": "9f30346b",
   "metadata": {},
   "outputs": [
    {
     "name": "stdout",
     "output_type": "stream",
     "text": [
      "Question 6: Machine_Learning\n"
     ]
    }
   ],
   "source": [
    "print(\"Question 6:\", \"Machine Learning\".replace(\" \", \"_\"))"
   ]
  },
  {
   "cell_type": "code",
   "execution_count": 7,
   "id": "2ecc483e",
   "metadata": {},
   "outputs": [
    {
     "name": "stdout",
     "output_type": "stream",
     "text": [
      "Question 7: True\n"
     ]
    }
   ],
   "source": [
    "print(\"Question 7:\", \"python\" in \"Python Programming Language\".lower())"
   ]
  },
  {
   "cell_type": "code",
   "execution_count": 8,
   "id": "a7e15532",
   "metadata": {},
   "outputs": [
    {
     "name": "stdout",
     "output_type": "stream",
     "text": [
      "Question 8: Artif\n"
     ]
    }
   ],
   "source": [
    "print(\"Question 8:\", \"Artificial Intelligence\"[:5])"
   ]
  },
  {
   "cell_type": "code",
   "execution_count": 9,
   "id": "4f24227f",
   "metadata": {},
   "outputs": [
    {
     "name": "stdout",
     "output_type": "stream",
     "text": [
      "Question 9: uppercase\n"
     ]
    }
   ],
   "source": [
    "\n",
    "print(\"Question 9:\", \"UPPERCASE\".lower())"
   ]
  },
  {
   "cell_type": "code",
   "execution_count": 10,
   "id": "b42b977a",
   "metadata": {},
   "outputs": [
    {
     "name": "stdout",
     "output_type": "stream",
     "text": [
      "Question 10: Cmptr Scnc\n"
     ]
    }
   ],
   "source": [
    "print(\"Question 10:\", ''.join(c for c in \"Computer Science\" if c.lower() not in \"aeiou\"))\n"
   ]
  },
  {
   "cell_type": "code",
   "execution_count": 11,
   "id": "cd7b5378",
   "metadata": {},
   "outputs": [
    {
     "name": "stdout",
     "output_type": "stream",
     "text": [
      "Question 11: i\n"
     ]
    }
   ],
   "source": [
    "print(\"Question 11:\", max(\"mississippi\", key=\"mississippi\".count))"
   ]
  },
  {
   "cell_type": "code",
   "execution_count": 12,
   "id": "ec13ff82",
   "metadata": {},
   "outputs": [
    {
     "name": "stdout",
     "output_type": "stream",
     "text": [
      "Question 12: True\n",
      "Question 13: Python Programming Language\n",
      "Question 14: 7\n",
      "Question 15: programming\n",
      "Question 16: Hello World How are you\n",
      "Question 17: True\n",
      "Question 18: 4\n",
      "Question 19: ['apple', 'banana', 'orange']\n",
      "Question 20: Python is awesome\n",
      "Question 21: True\n",
      "Question 22: True\n",
      "Question 23: hElLo wOrLd\n",
      "Question 24: [1, 3, 5]\n",
      "Question 25: Hello World\n",
      "Question 26: True\n",
      "Question 27: Hell0 World\n",
      "Question 28: a\n",
      "Question 29: 3\n",
      "Question 30: Python World Hello\n",
      "Question 31: True\n",
      "Question 32: www.example.com\n",
      "Question 33: 3\n",
      "Question 34: {'l', 'o'}\n",
      "Question 35: True\n",
      "Question 36: 123456789\n",
      "Question 37: snakeCase\n",
      "Question 38: True\n",
      "Question 39: the\n",
      "Question 40: NAASA\n",
      "Question 42: .... . .-.. .-.. --- / .-- --- .-. .-.. -..\n",
      "Question 43: gramm\n",
      "Question 44: True\n",
      "Question 45: ['Python', 'programming', 'amazing', 'powerful']\n",
      "Question 46: ellohay orldway\n",
      "Question 47: True\n",
      "Question 48: ['a', 'b', 'c', 'ab', 'bc', 'abc']\n",
      "Question 49: uryyb jbeyq\n",
      "Question 50: True\n"
     ]
    }
   ],
   "source": [
    "\n",
    "print(\"Question 12:\", sorted(\"listen\") == sorted(\"silent\"))\n",
    "print(\"Question 13:\", \"python programming language\".title())\n",
    "print(\"Question 14:\", sum(1 for c in \"Hello World\" if c.isalpha() and c.lower() not in \"aeiou\"))\n",
    "print(\"Question 15:\", max(\"Python is a programming language\".split(), key=len))\n",
    "print(\"Question 16:\", ''.join(c for c in \"Hello, World! How are you?\" if c.isalnum() or c.isspace()))\n",
    "print(\"Question 17:\", \"Python\".startswith(\"Python\"))\n",
    "print(\"Question 18:\", \"Hello World\".find(\"o\"))\n",
    "print(\"Question 19:\", \"apple,banana,orange\".split(\",\"))\n",
    "print(\"Question 20:\", \" \".join(['Python', 'is', 'awesome']))\n",
    "print(\"Question 21:\", \"12345\".isdigit())\n",
    "print(\"Question 22:\", \"HelloWorld\".isalpha())\n",
    "print(\"Question 23:\", ''.join(c.upper() if i%2 else c.lower() for i,c in enumerate(\"hello world\")))\n",
    "print(\"Question 24:\", [i for i,c in enumerate(\"banana\") if c==\"a\"])\n",
    "print(\"Question 25:\", \"  Hello World  \".strip())\n",
    "print(\"Question 26:\", \"programming\".endswith(\"ing\"))\n",
    "print(\"Question 27:\", \"Hello World\".replace(\"o\",\"0\",1))\n",
    "print(\"Question 28:\", min(\"Python is a programming language\".split(), key=len))\n",
    "print(\"Question 29:\", sum(1 for w in \"Python programming is powerful\".split() if w.lower().startswith(\"p\")))\n",
    "print(\"Question 30:\", ' '.join(\"Hello World Python\".split()[::-1]))\n",
    "print(\"Question 31:\", \"@\" in \"user@example.com\" and \".\" in \"user@example.com\")\n",
    "print(\"Question 32:\", \"https://www.example.com/path\".split(\"/\")[2])\n",
    "print(\"Question 33:\", \"Line1\\nLine2\\nLine3\".count(\"\\n\")+1)\n",
    "print(\"Question 34:\", set(\"hello\") & set(\"world\"))\n",
    "print(\"Question 35:\", \"+1-555-123-4567\".replace(\"+\",\"\").replace(\"-\",\"\").isdigit())\n",
    "print(\"Question 36:\", ''.join(c for c in \"abc123def456ghi789\" if c.isdigit()))\n",
    "print(\"Question 37:\", \"\".join(word.capitalize() if i else word for i,word in enumerate(\"snake_case\".split(\"_\"))))\n",
    "print(\"Question 38:\", (s:=\"A man a plan a canal Panama\").replace(\" \",\"\").lower() == s.replace(\" \",\"\").lower()[::-1])\n",
    "print(\"Question 39:\", max(\"the quick brown fox jumps over the lazy dog\".split(), key=lambda w: \"the quick brown fox jumps over the lazy dog\".split().count(w)))\n",
    "print(\"Question 40:\", ''.join(w[0].upper() for w in \"National Aeronautics and Space Administration\".split()))\n",
    "print(\"Question 42:\", ' '.join({'a':'.-','b':'-...','c':'-.-.','d':'-..','e':'.','f':'..-.','g':'--.','h':'....','i':'..','j':'.---','k':'-.-','l':'.-..','m':'--','n':'-.','o':'---','p':'.--.','q':'--.-','r':'.-.','s':'...','t':'-','u':'..-','v':'...-','w':'.--','x':'-..-','y':'-.--','z':'--..',' ':'/'}[c] for c in \"hello world\"))\n",
    "print(\"Question 43:\", max([ \"programming\"[i:j] for i in range(len(\"programming\")) for j in range(i+1,len(\"programming\")+1) if \"programming\"[i:j] in \"grammar\"], key=len))\n",
    "print(\"Question 44:\", \"https://www.google.com\".startswith((\"http://\",\"https://\")))\n",
    "print(\"Question 45:\", [w for w in \"Python programming is amazing and powerful\".split() if len(w)>5])\n",
    "print(\"Question 46:\", ' '.join([(w[1:]+w[0]+'ay') for w in \"hello world\".split()]))\n",
    "print(\"Question 47:\", all(0<=int(x)<256 for x in \"192.168.1.1\".split(\".\")))\n",
    "print(\"Question 48:\", sorted([\"abc\"[i:j] for i in range(len(\"abc\")) for j in range(i+1, len(\"abc\")+1)],\n",
    "                             key=lambda x: (len(x), \"abc\".find(x))))\n",
    "print(\"Question 49:\", __import__(\"codecs\").encode(\"hello world\", \"rot_13\"))\n",
    "print(\"Question 50:\", (lambda s: s.isdigit() and 13 <= len(s) <= 19 and\n",
    "       sum((int(d)*(2 if i%2 else 1) - 9*((int(d)*(2 if i%2 else 1)) > 9))\n",
    "           for i, d in enumerate(s[::-1])) % 10 == 0)(\"4532015112830366\"))\n"
   ]
  }
 ],
 "metadata": {
  "kernelspec": {
   "display_name": "Python 3",
   "language": "python",
   "name": "python3"
  },
  "language_info": {
   "codemirror_mode": {
    "name": "ipython",
    "version": 3
   },
   "file_extension": ".py",
   "mimetype": "text/x-python",
   "name": "python",
   "nbconvert_exporter": "python",
   "pygments_lexer": "ipython3",
   "version": "3.13.7"
  }
 },
 "nbformat": 4,
 "nbformat_minor": 5
}
