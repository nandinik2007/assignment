{
 "cells": [
  {
   "cell_type": "code",
   "execution_count": 1,
   "id": "82c02eb5",
   "metadata": {},
   "outputs": [
    {
     "name": "stdout",
     "output_type": "stream",
     "text": [
      "(1, 2, 3, 4, 5, 6, 7, 8, 9, 10)\n"
     ]
    }
   ],
   "source": [
    "#Question 1: Create a tuple of first 10 natural numbers\n",
    "q1 = tuple(range(1, 11))\n",
    "print(q1)"
   ]
  },
  {
   "cell_type": "code",
   "execution_count": 3,
   "id": "2f4b25fc",
   "metadata": {},
   "outputs": [
    {
     "name": "stdout",
     "output_type": "stream",
     "text": [
      "10\n"
     ]
    }
   ],
   "source": [
    "#Question 2: Find the length of tuple (1, 2, 3, 4, 5, 6, 7, 8, 9, 10)\n",
    "q2 = (1, 2, 3, 4, 5, 6, 7, 8, 9, 10)\n",
    "print(len(q2))"
   ]
  },
  {
   "cell_type": "code",
   "execution_count": 4,
   "id": "5baea82b",
   "metadata": {},
   "outputs": [
    {
     "name": "stdout",
     "output_type": "stream",
     "text": [
      "c\n"
     ]
    }
   ],
   "source": [
    "\n",
    "#Question 3: Access the 3rd element from tuple ('a', 'b', 'c', 'd', 'e')\n",
    "q3 = ('a', 'b', 'c', 'd', 'e')\n",
    "print(q3[2])"
   ]
  },
  {
   "cell_type": "code",
   "execution_count": 5,
   "id": "1e09cc82",
   "metadata": {},
   "outputs": [
    {
     "name": "stdout",
     "output_type": "stream",
     "text": [
      "89\n"
     ]
    }
   ],
   "source": [
    "\n",
    "#Question 4: Find the maximum value in tuple (23, 45, 12, 67, 34, 89, 56)\n",
    "q4 = (23, 45, 12, 67, 34, 89, 56)\n",
    "print(max(q4))\n"
   ]
  },
  {
   "cell_type": "code",
   "execution_count": 6,
   "id": "2e10ff61",
   "metadata": {},
   "outputs": [
    {
     "name": "stdout",
     "output_type": "stream",
     "text": [
      "4\n"
     ]
    }
   ],
   "source": [
    "\n",
    "#Question 5: Count how many times 5 appears in (1, 5, 2, 5, 3, 5, 4, 5, 6)\n",
    "q5 = (1, 5, 2, 5, 3, 5, 4, 5, 6)\n",
    "print(q5.count(5))"
   ]
  },
  {
   "cell_type": "code",
   "execution_count": 7,
   "id": "83289ebc",
   "metadata": {},
   "outputs": [
    {
     "name": "stdout",
     "output_type": "stream",
     "text": [
      "(10, 3.14, 'hello', True)\n"
     ]
    }
   ],
   "source": [
    "\n",
    "#Question 6: Create a tuple of mixed data types (integer, float, string, boolean)\n",
    "q6 = (10, 3.14, \"hello\", True)\n",
    "print(q6)"
   ]
  },
  {
   "cell_type": "code",
   "execution_count": 8,
   "id": "f4165f83",
   "metadata": {},
   "outputs": [
    {
     "name": "stdout",
     "output_type": "stream",
     "text": [
      "1\n"
     ]
    }
   ],
   "source": [
    "#Question 7: Find the index of element 'python' in ('java', 'python', 'c++', 'javascript')\n",
    "q7 = ('java', 'python', 'c++', 'javascript')\n",
    "print(q7.index('python'))\n",
    "     "
   ]
  },
  {
   "cell_type": "code",
   "execution_count": 9,
   "id": "9c6a36da",
   "metadata": {},
   "outputs": [
    {
     "name": "stdout",
     "output_type": "stream",
     "text": [
      "False\n"
     ]
    }
   ],
   "source": [
    "#Question 8: Check if 25 exists in tuple (10, 20, 30, 40, 50)\n",
    "q8 = (10, 20, 30, 40, 50)\n",
    "print(25 in q8)\n"
   ]
  },
  {
   "cell_type": "code",
   "execution_count": 10,
   "id": "25647359",
   "metadata": {},
   "outputs": [
    {
     "name": "stdout",
     "output_type": "stream",
     "text": [
      "(2, 4, 6, 8, 10)\n"
     ]
    }
   ],
   "source": [
    "\n",
    "#Question 9: Create a tuple of first 5 even numbers\n",
    "q9 = tuple(range(2, 11, 2))\n",
    "print(q9)"
   ]
  },
  {
   "cell_type": "code",
   "execution_count": 11,
   "id": "48056491",
   "metadata": {},
   "outputs": [
    {
     "name": "stdout",
     "output_type": "stream",
     "text": [
      "40.833333333333336\n"
     ]
    }
   ],
   "source": [
    "\n",
    "#Question 10: Find the average of numbers in tuple (15, 23, 31, 42, 56, 78)\n",
    "q10 = (15, 23, 31, 42, 56, 78)\n",
    "print(sum(q10) / len(q10))"
   ]
  }
 ],
 "metadata": {
  "kernelspec": {
   "display_name": "Python 3",
   "language": "python",
   "name": "python3"
  },
  "language_info": {
   "codemirror_mode": {
    "name": "ipython",
    "version": 3
   },
   "file_extension": ".py",
   "mimetype": "text/x-python",
   "name": "python",
   "nbconvert_exporter": "python",
   "pygments_lexer": "ipython3",
   "version": "3.13.7"
  }
 },
 "nbformat": 4,
 "nbformat_minor": 5
}
