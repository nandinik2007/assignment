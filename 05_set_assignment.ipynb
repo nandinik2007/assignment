{
 "cells": [
  {
   "cell_type": "code",
   "execution_count": 1,
   "id": "a44a46cc",
   "metadata": {},
   "outputs": [
    {
     "name": "stdout",
     "output_type": "stream",
     "text": [
      "{1, 2, 3, 4, 5}\n"
     ]
    }
   ],
   "source": [
    "#Question 1: Create a set of first 5 natural numbers\")\n",
    "q1 = {1, 2, 3, 4, 5}\n",
    "print(q1)"
   ]
  },
  {
   "cell_type": "code",
   "execution_count": 2,
   "id": "dcad0798",
   "metadata": {},
   "outputs": [
    {
     "name": "stdout",
     "output_type": "stream",
     "text": [
      "5\n"
     ]
    }
   ],
   "source": [
    "\n",
    "#Question 2: Find the length of set {10, 20, 30, 40, 50}\n",
    "q2 = {10, 20, 30, 40, 50}\n",
    "print(len(q2))"
   ]
  },
  {
   "cell_type": "code",
   "execution_count": 3,
   "metadata": {},
   "outputs": [
    {
     "name": "stdout",
     "output_type": "stream",
     "text": [
      "{50, 20, 40, 10, 60, 30}\n"
     ]
    }
   ],
   "source": [
    "\n",
    "#Question 3: Add element 60 to set {10, 20, 30, 40, 50}\n",
    "q3 = {10, 20, 30, 40, 50}\n",
    "q3.add(60)\n",
    "print(q3)"
   ]
  },
  {
   "cell_type": "code",
   "execution_count": 4,
   "id": "0a1e8f8f",
   "metadata": {},
   "outputs": [
    {
     "name": "stdout",
     "output_type": "stream",
     "text": [
      "{50, 20, 40, 10}\n"
     ]
    }
   ],
   "source": [
    "#Question 4: Remove element 30 from set {10, 20, 30, 40, 50}\n",
    "q4 = {10, 20, 30, 40, 50}\n",
    "q4.remove(30)\n",
    "print(q4)"
   ]
  },
  {
   "cell_type": "code",
   "execution_count": 5,
   "id": "04ca6485",
   "metadata": {},
   "outputs": [
    {
     "name": "stdout",
     "output_type": "stream",
     "text": [
      "67\n"
     ]
    }
   ],
   "source": [
    "\n",
    "#Question 5: Find maximum element from {12, 45, 23, 67, 34}\n",
    "q5 = {12, 45, 23, 67, 34}\n",
    "print(max(q5))"
   ]
  },
  {
   "cell_type": "code",
   "execution_count": 6,
   "id": "449af88a",
   "metadata": {},
   "outputs": [
    {
     "name": "stdout",
     "output_type": "stream",
     "text": [
      "12\n"
     ]
    }
   ],
   "source": [
    "#Question 6: Find minimum element from {12, 45, 23, 67, 34}\n",
    "q6 = {12, 45, 23, 67, 34}\n",
    "print(min(q6))"
   ]
  },
  {
   "cell_type": "code",
   "execution_count": 7,
   "id": "567c1607",
   "metadata": {},
   "outputs": [
    {
     "name": "stdout",
     "output_type": "stream",
     "text": [
      "50\n"
     ]
    }
   ],
   "source": [
    "#Question 7: Find sum of elements in set {5, 10, 15, 20}\n",
    "q7 = {5, 10, 15, 20}\n",
    "print(sum(q7))\n",
    "     "
   ]
  },
  {
   "cell_type": "code",
   "execution_count": 8,
   "id": "255a8a55",
   "metadata": {},
   "outputs": [
    {
     "name": "stdout",
     "output_type": "stream",
     "text": [
      "False\n"
     ]
    }
   ],
   "source": [
    "#Question 8: Check if 25 exists in set {10, 20, 30, 40, 50}\n",
    "q8 = {10, 20, 30, 40, 50}\n",
    "print(25 in q8)"
   ]
  },
  {
   "cell_type": "code",
   "execution_count": 9,
   "id": "2f64638a",
   "metadata": {},
   "outputs": [
    {
     "name": "stdout",
     "output_type": "stream",
     "text": [
      "{1, 2}\n"
     ]
    }
   ],
   "source": [
    "#Question 9: Find difference between {1,2,3,4} and {3,4,5,6}\n",
    "q9a = {1, 2, 3, 4}\n",
    "q9b = {3, 4, 5, 6}\n",
    "print(q9a - q9b)"
   ]
  },
  {
   "cell_type": "code",
   "execution_count": 10,
   "id": "c7850815",
   "metadata": {},
   "outputs": [
    {
     "name": "stdout",
     "output_type": "stream",
     "text": [
      "{1, 2, 5, 6}\n"
     ]
    }
   ],
   "source": [
    "\n",
    "#Question 10: Find symmetric difference between {1,2,3,4} and {3,4,5,6}\n",
    "q10a = {1, 2, 3, 4}\n",
    "q10b = {3, 4, 5, 6}\n",
    "print(q10a ^ q10b)"
   ]
  }
 ],
 "metadata": {
  "kernelspec": {
   "display_name": "Python 3",
   "language": "python",
   "name": "python3"
  },
  "language_info": {
   "codemirror_mode": {
    "name": "ipython",
    "version": 3
   },
   "file_extension": ".py",
   "mimetype": "text/x-python",
   "name": "python",
   "nbconvert_exporter": "python",
   "pygments_lexer": "ipython3",
   "version": "3.13.7"
  }
 },
 "nbformat": 4,
 "nbformat_minor": 5
}
