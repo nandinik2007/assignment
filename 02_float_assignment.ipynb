{
 "cells": [
  {
   "cell_type": "code",
   "execution_count": null,
   "id": "dc7663ee",
   "metadata": {},
   "outputs": [],
   "source": [
    "import math"
   ]
  },
  {
   "cell_type": "markdown",
   "id": "ce6df01c",
   "metadata": {},
   "source": [
    "\n",
    "#Question 1:Calculate the average of 3.14, 2.718, 1.618, 0.577\n"
   ]
  },
  {
   "cell_type": "code",
   "execution_count": 1,
   "id": "0a2c801c",
   "metadata": {},
   "outputs": [
    {
     "name": "stdout",
     "output_type": "stream",
     "text": [
      "2.01325\n"
     ]
    }
   ],
   "source": [
    "nums = [3.14, 2.718, 1.618, 0.577]\n",
    "print(sum(nums) / len(nums))"
   ]
  },
  {
   "cell_type": "markdown",
   "id": "ec13d6eb",
   "metadata": {},
   "source": [
    "\n",
    "#Question 2: Convert 98.6 Fahrenheit to Celsius\n"
   ]
  },
  {
   "cell_type": "code",
   "execution_count": 2,
   "id": "3fedb202",
   "metadata": {},
   "outputs": [
    {
     "name": "stdout",
     "output_type": "stream",
     "text": [
      "Celsius: 37.0\n"
     ]
    }
   ],
   "source": [
    "F = 98.6\n",
    "C = (F - 32) * 5/9\n",
    "print(\"Celsius:\", round(C, 2))"
   ]
  },
  {
   "cell_type": "markdown",
   "id": "f47500dd",
   "metadata": {},
   "source": [
    "#Question 3: Calculate compound interest on $1000 at 5.5% for 3 years\n"
   ]
  },
  {
   "cell_type": "code",
   "execution_count": 3,
   "id": "c7af6395",
   "metadata": {},
   "outputs": [
    {
     "name": "stdout",
     "output_type": "stream",
     "text": [
      "Compound Interest: 174.24\n"
     ]
    }
   ],
   "source": [
    "P, R, T = 1000, 5.5/100, 3\n",
    "A = P * (1 + R) ** T\n",
    "CI = A - P\n",
    "print(\"Compound Interest:\",round(CI, 2))"
   ]
  },
  {
   "cell_type": "markdown",
   "id": "658e308e",
   "metadata": {},
   "source": [
    "\n",
    "#Question 4: Find the hypotenuse of a right triangle with sides 3.5 and 4.2\n",
    "\n",
    "     "
   ]
  },
  {
   "cell_type": "code",
   "execution_count": 6,
   "id": "fb868175",
   "metadata": {},
   "outputs": [
    {
     "name": "stdout",
     "output_type": "stream",
     "text": [
      "Hypotenuse: 5.47\n"
     ]
    }
   ],
   "source": [
    "import math\n",
    "a, b = 3.5, 4.2\n",
    "hypotenuse = math.hypot(a, b)   # shortcut for sqrt(a^2 + b^2)\n",
    "print(\"Hypotenuse:\", round(hypotenuse, 2))"
   ]
  },
  {
   "cell_type": "markdown",
   "id": "44f04a1b",
   "metadata": {},
   "source": [
    "#Question 5: Calculate the volume of a sphere with radius 7.8\n"
   ]
  },
  {
   "cell_type": "code",
   "execution_count": 7,
   "id": "e436be1f",
   "metadata": {},
   "outputs": [
    {
     "name": "stdout",
     "output_type": "stream",
     "text": [
      "Volume: 1987.8\n"
     ]
    }
   ],
   "source": [
    "r = 7.8\n",
    "volume = (4/3) * math.pi * r**3\n",
    "print(\"Volume:\", round(volume, 2))"
   ]
  },
  {
   "cell_type": "markdown",
   "id": "82bc3fee",
   "metadata": {},
   "source": [
    "#Question 6: Round 3.14159 to 3 decimal places\n"
   ]
  },
  {
   "cell_type": "code",
   "execution_count": 8,
   "id": "507edb7f",
   "metadata": {},
   "outputs": [
    {
     "name": "stdout",
     "output_type": "stream",
     "text": [
      "Rounded: 3.142\n"
     ]
    }
   ],
   "source": [
    "print(\"Rounded:\", round(3.14159, 3))"
   ]
  },
  {
   "cell_type": "markdown",
   "id": "380d7fb5",
   "metadata": {},
   "source": [
    "\n",
    "#Question 7: Calculate the percentage: 45 out of 67\n"
   ]
  },
  {
   "cell_type": "code",
   "execution_count": 9,
   "id": "f88bd052",
   "metadata": {},
   "outputs": [
    {
     "name": "stdout",
     "output_type": "stream",
     "text": [
      "Percentage: 67.16 %\n"
     ]
    }
   ],
   "source": [
    "percentage = (45 / 67) * 100\n",
    "print(\"Percentage:\", round(percentage, 2), \"%\")"
   ]
  },
  {
   "cell_type": "markdown",
   "id": "fcfa2f46",
   "metadata": {},
   "source": [
    "#Question 8: Find the square root of 23.456\n"
   ]
  },
  {
   "cell_type": "code",
   "execution_count": 10,
   "id": "3189f959",
   "metadata": {},
   "outputs": [
    {
     "name": "stdout",
     "output_type": "stream",
     "text": [
      "Square root: 4.843\n"
     ]
    }
   ],
   "source": [
    "print(\"Square root:\", round(math.sqrt(23.456), 3))"
   ]
  },
  {
   "cell_type": "markdown",
   "id": "cc6007df",
   "metadata": {},
   "source": [
    "#Question 9: Calculate simple interest: Principal=2500, Rate=6.5%, Time=2.5 years\n"
   ]
  },
  {
   "cell_type": "code",
   "execution_count": 12,
   "id": "39d11201",
   "metadata": {},
   "outputs": [
    {
     "name": "stdout",
     "output_type": "stream",
     "text": [
      "Simple Interest = 406.25\n"
     ]
    }
   ],
   "source": [
    "\n",
    "principal = 2500.0   # Principal amount\n",
    "rate = 6.5           # Rate of interest\n",
    "time = 2.5           # Time in years\n",
    "simple_interest = (principal * rate * time) / 100\n",
    "print(\"Simple Interest =\", simple_interest)\n"
   ]
  },
  {
   "cell_type": "markdown",
   "id": "e4b98d57",
   "metadata": {},
   "source": [
    "#Question 10: Convert 45.7 degrees to radians\n"
   ]
  },
  {
   "cell_type": "code",
   "execution_count": 13,
   "id": "8eac0eaf",
   "metadata": {},
   "outputs": [
    {
     "name": "stdout",
     "output_type": "stream",
     "text": [
      "Radians: 0.7976\n"
     ]
    }
   ],
   "source": [
    "deg = 45.7\n",
    "radians = math.radians(deg)\n",
    "print(\"Radians:\", round(radians, 4))"
   ]
  }
 ],
 "metadata": {
  "kernelspec": {
   "display_name": "Python 3",
   "language": "python",
   "name": "python3"
  },
  "language_info": {
   "codemirror_mode": {
    "name": "ipython",
    "version": 3
   },
   "file_extension": ".py",
   "mimetype": "text/x-python",
   "name": "python",
   "nbconvert_exporter": "python",
   "pygments_lexer": "ipython3",
   "version": "3.13.7"
  }
 },
 "nbformat": 4,
 "nbformat_minor": 5
}
