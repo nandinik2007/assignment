{
 "cells": [
  {
   "cell_type": "code",
   "execution_count": 1,
   "id": "ac1aeba5",
   "metadata": {},
   "outputs": [
    {
     "name": "stdout",
     "output_type": "stream",
     "text": [
      "(5+3j)\n"
     ]
    }
   ],
   "source": [
    "\n",
    "# Question 1: Create complex number 5 + 3j\n",
    "z1 = 5 + 3j\n",
    "print(z1)"
   ]
  },
  {
   "cell_type": "code",
   "execution_count": 2,
   "id": "9546742f",
   "metadata": {},
   "outputs": [
    {
     "name": "stdout",
     "output_type": "stream",
     "text": [
      "7.0\n"
     ]
    }
   ],
   "source": [
    "\n",
    "# Question 2: Find the real part of complex number 7 - 2j\n",
    "z2 = 7 - 2j\n",
    "print(z2.real)"
   ]
  },
  {
   "cell_type": "code",
   "execution_count": 3,
   "id": "396208f2",
   "metadata": {},
   "outputs": [
    {
     "name": "stdout",
     "output_type": "stream",
     "text": [
      "6.0\n"
     ]
    }
   ],
   "source": [
    "# Question 3: Find the imaginary part of complex number 4 + 6j\n",
    "z3 = 4 + 6j\n",
    "print(z3.imag)"
   ]
  },
  {
   "cell_type": "code",
   "execution_count": 4,
   "id": "c78032ea",
   "metadata": {},
   "outputs": [
    {
     "name": "stdout",
     "output_type": "stream",
     "text": [
      "(4+6j)\n"
     ]
    }
   ],
   "source": [
    "\n",
    "# Question 4: Add two complex numbers: (3 + 2j) and (1 + 4j)\n",
    "z4 = (3 + 2j) + (1 + 4j)\n",
    "print(z4)"
   ]
  },
  {
   "cell_type": "code",
   "execution_count": 5,
   "id": "eb29de4a",
   "metadata": {},
   "outputs": [
    {
     "name": "stdout",
     "output_type": "stream",
     "text": [
      "(-4+7j)\n"
     ]
    }
   ],
   "source": [
    "# Question 5: Multiply two complex numbers: (2 + 3j) and (1 + 2j)\n",
    "z5 = (2 + 3j) * (1 + 2j)\n",
    "print(z5)\n",
    "     "
   ]
  },
  {
   "cell_type": "code",
   "execution_count": 6,
   "id": "0d6e1352",
   "metadata": {},
   "outputs": [
    {
     "name": "stdout",
     "output_type": "stream",
     "text": [
      "10.0\n"
     ]
    }
   ],
   "source": [
    "# Question 6: Find the magnitude of complex number 6 + 8j\n",
    "z6 = 6 + 8j\n",
    "print(abs(z6))"
   ]
  },
  {
   "cell_type": "code",
   "execution_count": 7,
   "id": "ba1be66f",
   "metadata": {},
   "outputs": [
    {
     "name": "stdout",
     "output_type": "stream",
     "text": [
      "(5+7j)\n"
     ]
    }
   ],
   "source": [
    "\n",
    "# Question 7: Find the conjugate of complex number 5 - 7j\n",
    "z7 = 5 - 7j\n",
    "print(z7.conjugate())"
   ]
  },
  {
   "cell_type": "code",
   "execution_count": 8,
   "id": "4b1d5d32",
   "metadata": {},
   "outputs": [
    {
     "name": "stdout",
     "output_type": "stream",
     "text": [
      "(7+3j)\n"
     ]
    }
   ],
   "source": [
    "\n",
    "# Question 8: Subtract complex numbers: (10 + 5j) - (3 + 2j)\n",
    "z8 = (10 + 5j) - (3 + 2j)\n",
    "print(z8)"
   ]
  },
  {
   "cell_type": "code",
   "execution_count": 9,
   "id": "c7279b4f",
   "metadata": {},
   "outputs": [
    {
     "name": "stdout",
     "output_type": "stream",
     "text": [
      "(4.4+0.8j)\n"
     ]
    }
   ],
   "source": [
    "\n",
    "# Question 9: Divide complex numbers: (8 + 6j) / (2 + 1j)\n",
    "z9 = (8 + 6j) / (2 + 1j)\n",
    "print(z9)"
   ]
  },
  {
   "cell_type": "code",
   "execution_count": 10,
   "id": "4f87400a",
   "metadata": {},
   "outputs": [
    {
     "name": "stdout",
     "output_type": "stream",
     "text": [
      "0.7853981633974483\n"
     ]
    }
   ],
   "source": [
    "\n",
    "# Question 10: Find the phase angle of complex number 1 + 1j\n",
    "import cmath\n",
    "z10 = 1 + 1j\n",
    "print(cmath.phase(z10))"
   ]
  }
 ],
 "metadata": {
  "kernelspec": {
   "display_name": "Python 3",
   "language": "python",
   "name": "python3"
  },
  "language_info": {
   "codemirror_mode": {
    "name": "ipython",
    "version": 3
   },
   "file_extension": ".py",
   "mimetype": "text/x-python",
   "name": "python",
   "nbconvert_exporter": "python",
   "pygments_lexer": "ipython3",
   "version": "3.13.7"
  }
 },
 "nbformat": 4,
 "nbformat_minor": 5
}
